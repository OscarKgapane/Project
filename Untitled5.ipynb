{
  "nbformat": 4,
  "nbformat_minor": 0,
  "metadata": {
    "colab": {
      "provenance": [],
      "authorship_tag": "ABX9TyOcMEyMKK6s055uQAckBz/7",
      "include_colab_link": true
    },
    "kernelspec": {
      "name": "python3",
      "display_name": "Python 3"
    },
    "language_info": {
      "name": "python"
    }
  },
  "cells": [
    {
      "cell_type": "markdown",
      "metadata": {
        "id": "view-in-github",
        "colab_type": "text"
      },
      "source": [
        "<a href=\"https://colab.research.google.com/github/OscarKgapane/Project/blob/main/Untitled5.ipynb\" target=\"_parent\"><img src=\"https://colab.research.google.com/assets/colab-badge.svg\" alt=\"Open In Colab\"/></a>"
      ]
    },
    {
      "cell_type": "code",
      "execution_count": 25,
      "metadata": {
        "colab": {
          "base_uri": "https://localhost:8080/"
        },
        "id": "VBA5RyqZrdr_",
        "outputId": "622bfb7f-0b41-40e2-cd54-3fa6223b1dc7"
      },
      "outputs": [
        {
          "output_type": "stream",
          "name": "stdout",
          "text": [
            "\n",
            "\n",
            "*****************************\n",
            "this is the person's details\n",
            "name: Tom\n",
            "surname: Holland\n",
            "ID: 3350\n",
            "*****************************\n",
            "Sport ac: Fifa\n",
            "*****************************\n",
            "\n",
            "\n",
            "*****************************\n",
            "this is the person's details\n",
            "name: Oscar\n",
            "surname: Masetla\n",
            "ID: 2506\n",
            "*****************************\n",
            "Sport ac: GodSpeed\n",
            "*****************************\n",
            "\n",
            "\n",
            "*****************************\n",
            "this is the person's details\n",
            "name: Bruce\n",
            "surname: Lee\n",
            "ID: 3342\n",
            "*****************************\n",
            "\n",
            "\n",
            "*****************************\n",
            "this is the person's details\n",
            "name: Zendaya\n",
            "surname: coleman\n",
            "ID: 4576\n",
            "*****************************\n"
          ]
        }
      ],
      "source": [
        "class Person:\n",
        "    def __init__ (self, name, surname, id_number):\n",
        "      self.name = name\n",
        "      self.surname = surname\n",
        "      self.id_number = id_number\n",
        "\n",
        "    def display_details(self):\n",
        "\n",
        "      print(\"\\n\")\n",
        "      print(\"*\" * 29)\n",
        "      print(\"this is the person's details\")\n",
        "      print(f\"name: {self.name}\")\n",
        "      print(f\"surname: {self.surname}\")\n",
        "      print(f\"ID: {self.id_number}\")\n",
        "      print(\"*\" * 29)\n",
        "\n",
        "class Athlete(Person):\n",
        "    def __init__ (self, name, surname, id_number, sport_ac):\n",
        "     super().__init__(name, surname, id_number)\n",
        "     self.sport_ac = sport_ac\n",
        "\n",
        "    def display_detail(self):\n",
        "      super().display_details()\n",
        "\n",
        "      print(f\"Sport ac: {self.sport_ac}\")\n",
        "      print(\"*\" * 29)\n",
        "\n",
        "\n",
        "class Non_Athlete(Person):\n",
        "    def __init__(self, name, surname, id_number):\n",
        "      super().__init__(name, surname, id_number)\n",
        "\n",
        "    def display_details(self):\n",
        "      super().display_details()\n",
        "\n",
        "\n",
        "person1 = Athlete(\"Tom\", \"Holland\", 3350, \"Fifa\")\n",
        "person2 = Athlete(\"Oscar\", \"Masetla\", 2506, \"GodSpeed\")\n",
        "\n",
        "\n",
        "person3 = Non_Athlete(\"Bruce\", \"Lee\", 3342)\n",
        "person4 = Non_Athlete(\"Zendaya\", \"coleman\", 4576)\n",
        "\n",
        "person1.display_detail()\n",
        "person2.display_detail()\n",
        "person3.display_details()\n",
        "person4.display_details()\n",
        "\n",
        "\n",
        "\n",
        "\n",
        "\n",
        "\n",
        "\n",
        "\n",
        "\n",
        "\n",
        "\n",
        "\n",
        "\n",
        "\n"
      ]
    }
  ]
}